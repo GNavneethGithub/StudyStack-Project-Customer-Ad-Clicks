{
 "cells": [
  {
   "cell_type": "markdown",
   "id": "695b4a4e",
   "metadata": {},
   "source": [
    "# Importing Libraries"
   ]
  },
  {
   "cell_type": "code",
   "execution_count": 2,
   "id": "ee6efc42",
   "metadata": {},
   "outputs": [],
   "source": [
    "import pandas as pd\n",
    "import numpy as np\n",
    "import matplotlib.pyplot as plt\n",
    "import seaborn as sns\n",
    "\n",
    "from scipy.stats import norm\n",
    "from pandas.plotting import scatter_matrix\n",
    "\n",
    "from sklearn.model_selection import train_test_split\n",
    "from sklearn.linear_model import LogisticRegression\n",
    "from sklearn.metrics import accuracy_score\n",
    "from sklearn.metrics import confusion_matrix\n",
    "\n",
    "\n",
    "\n",
    "%matplotlib inline"
   ]
  },
  {
   "cell_type": "markdown",
   "id": "4bb44755",
   "metadata": {},
   "source": [
    "# Importing the Dataset"
   ]
  },
  {
   "cell_type": "code",
   "execution_count": null,
   "id": "cf116681",
   "metadata": {},
   "outputs": [],
   "source": [
    "data = pd.read_csv('advertising.csv')"
   ]
  },
  {
   "cell_type": "markdown",
   "id": "031ec86d",
   "metadata": {},
   "source": [
    "# Inspecting the data"
   ]
  },
  {
   "cell_type": "code",
   "execution_count": null,
   "id": "644e9d88",
   "metadata": {},
   "outputs": [],
   "source": [
    "data.head(10)"
   ]
  },
  {
   "cell_type": "code",
   "execution_count": null,
   "id": "016495b0",
   "metadata": {},
   "outputs": [],
   "source": [
    "data.info()"
   ]
  },
  {
   "cell_type": "code",
   "execution_count": null,
   "id": "31b61765",
   "metadata": {},
   "outputs": [],
   "source": [
    "data.describe()"
   ]
  },
  {
   "cell_type": "markdown",
   "id": "d42d13bd",
   "metadata": {},
   "source": [
    "#  Analysis of data"
   ]
  },
  {
   "cell_type": "code",
   "execution_count": null,
   "id": "2df5f6f2",
   "metadata": {},
   "outputs": [],
   "source": [
    "sns.distplot(data['Age'], hist=False, color='r', rug=True, fit=norm);"
   ]
  },
  {
   "cell_type": "markdown",
   "id": "02922c46",
   "metadata": {},
   "source": [
    "#  Visual analysis"
   ]
  },
  {
   "cell_type": "code",
   "execution_count": null,
   "id": "3a33c309",
   "metadata": {},
   "outputs": [],
   "source": [
    "f, ax = plt.subplots(figsize=(10, 10))\n",
    "sns.kdeplot(data.Age, data['Daily Time Spent on Site'], color=\"b\", ax=ax)\n",
    "sns.rugplot(data.Age, color=\"r\", ax=ax)\n",
    "sns.rugplot(data['Daily Time Spent on Site'], vertical=True, ax=ax)"
   ]
  },
  {
   "cell_type": "code",
   "execution_count": null,
   "id": "c0204f12",
   "metadata": {},
   "outputs": [],
   "source": [
    "f, ax = plt.subplots(figsize=(8, 8))\n",
    "cmap = sns.cubehelix_palette(as_cmap=True, start=0, dark=0, light=3, reverse=True)\n",
    "sns.kdeplot(data[\"Daily Time Spent on Site\"], data['Daily Internet Usage'],\n",
    "    cmap=cmap, n_levels=100, shade=True);"
   ]
  },
  {
   "cell_type": "markdown",
   "id": "dba6770c",
   "metadata": {},
   "source": [
    "# Data Preprocessing"
   ]
  },
  {
   "cell_type": "code",
   "execution_count": null,
   "id": "f704077e",
   "metadata": {},
   "outputs": [],
   "source": [
    "object_variables = ['Ad Topic Line', 'City', 'Country']\n",
    "data[object_variables].describe(include=['O']"
   ]
  },
  {
   "cell_type": "code",
   "execution_count": null,
   "id": "10b875d7",
   "metadata": {},
   "outputs": [],
   "source": [
    "pd.crosstab(index=data['Country'], columns='count').sort_values(['count'], ascending=False).head(20)"
   ]
  },
  {
   "cell_type": "code",
   "execution_count": null,
   "id": "91070eb2",
   "metadata": {},
   "outputs": [],
   "source": [
    "data = data.drop(['Ad Topic Line', 'City', 'Country'], axis=1)"
   ]
  },
  {
   "cell_type": "code",
   "execution_count": null,
   "id": "8aa4a05e",
   "metadata": {},
   "outputs": [],
   "source": [
    "data['Timestamp'] = pd.to_datetime(data['Timestamp'])\n",
    "\n",
    "data['Month'] = data['Timestamp'].dt.month\n",
    "data['Day of the month'] = data['Timestamp'].dt.day\n",
    "data[\"Day of the week\"] = data['Timestamp'].dt.dayofweek\n",
    "data['Hour'] = data['Timestamp'].dt.hour\n",
    "data = data.drop(['Timestamp'], axis=1)\n",
    "\n",
    "data.head()"
   ]
  },
  {
   "cell_type": "markdown",
   "id": "4063d82b",
   "metadata": {},
   "source": [
    "# Train and Test Data Sets"
   ]
  },
  {
   "cell_type": "code",
   "execution_count": null,
   "id": "43ed30c1",
   "metadata": {},
   "outputs": [],
   "source": [
    "X = data[['Daily Time Spent on Site', 'Age', 'Area Income', 'Daily Internet Usage',\n",
    "    'Male', 'Month', 'Day of the month' ,'Day of the week']]\n",
    "y = data['Clicked on Ad']\n",
    "X_train, X_test, y_train, y_test = train_test_split(X, y, test_size=0.33, random_state=42)"
   ]
  },
  {
   "cell_type": "markdown",
   "id": "c4394a33",
   "metadata": {},
   "source": [
    "# Model 1"
   ]
  },
  {
   "cell_type": "code",
   "execution_count": null,
   "id": "303c2a32",
   "metadata": {},
   "outputs": [],
   "source": [
    "model_1 = LogisticRegression(solver='lbfgs')\n",
    "model_1.fit(X_train, y_train)\n",
    "predictions_LR = model_1.predict(X_test)\n",
    "\n",
    "print('Logistic regression accuracy:', accuracy_score(predictions_LR, y_test))\n",
    "print('')\n",
    "print('Confusion matrix:')\n",
    "print(confusion_matrix(y_test,predictions_LR))"
   ]
  },
  {
   "cell_type": "markdown",
   "id": "ace7ba96",
   "metadata": {},
   "source": [
    "#  Model 2"
   ]
  },
  {
   "cell_type": "code",
   "execution_count": null,
   "id": "3696360a",
   "metadata": {},
   "outputs": [],
   "source": [
    "model_2 = DecisionTreeClassifier()\n",
    "model_2.fit(X_train, y_train)\n",
    "predictions_DT = model_2.predict(X_test)\n",
    "\n",
    "print('Decision tree accuracy:', accuracy_score(predictions_DT, y_test))\n",
    "print('')\n",
    "print('Confusion matrix:')\n",
    "print(confusion_matrix(y_test,predictions_DT))"
   ]
  }
 ],
 "metadata": {
  "kernelspec": {
   "display_name": "Python 3 (ipykernel)",
   "language": "python",
   "name": "python3"
  },
  "language_info": {
   "codemirror_mode": {
    "name": "ipython",
    "version": 3
   },
   "file_extension": ".py",
   "mimetype": "text/x-python",
   "name": "python",
   "nbconvert_exporter": "python",
   "pygments_lexer": "ipython3",
   "version": "3.11.3"
  }
 },
 "nbformat": 4,
 "nbformat_minor": 5
}
